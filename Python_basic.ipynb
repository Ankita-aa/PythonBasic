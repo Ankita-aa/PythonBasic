{
  "nbformat": 4,
  "nbformat_minor": 0,
  "metadata": {
    "colab": {
      "provenance": []
    },
    "kernelspec": {
      "name": "python3",
      "display_name": "Python 3"
    },
    "language_info": {
      "name": "python"
    }
  },
  "cells": [
    {
      "cell_type": "markdown",
      "source": [
        "PYTHON BASIC\n"
      ],
      "metadata": {
        "id": "C0SY0KCTb1uf"
      }
    },
    {
      "cell_type": "markdown",
      "source": [
        "Python Basics Questions\n",
        "\n",
        "1 What is Python, and why is it popular?\n",
        "\n",
        " - Python is a high-level, interpreted programming language known for its simplicity, readability, and versatility. It is widely used in web development, data science, machine learning, automation, and more. Python is popular due to its extensive libraries, active community, and ease of learning.\n",
        "\n",
        "\n",
        "2 What is an interpreter in Python?\n",
        "\n",
        " - An interpreter is a program that executes Python code line by line, converting high-level code into machine-readable instructions. Python's interpreter allows for quick testing and debugging.\n",
        "\n",
        "3 What are pre-defined keywords in Python?\n",
        "\n",
        " - Keywords are reserved words in Python that have special meanings and cannot be used as variable names. Examples include if, else, while, for, def, return, class, try, and except.\n",
        "\n",
        "\n",
        "4 Can keywords be used as variable names?\n",
        " - No, keywords cannot be used as variable names because they have predefined meanings in Python and are essential for the language's syntax.\n",
        "\n",
        "5 What is mutability in Python?\n",
        "- Mutability refers to whether an object's state can be changed after its creation. Mutable objects (e.g., lists, dictionaries) can be modified, while immutable objects (e.g., tuples, strings) cannot.\n",
        "\n",
        "6 Why are lists mutable, but tuples are immutable?\n",
        " - Lists are mutable because they are designed for dynamic storage, allowing elements to be changed, added, or removed. Tuples, on the other hand, are immutable to ensure data integrity and optimize memory usage.\n",
        "\n",
        "7 What is the difference between == and is operators in Python?\n",
        "\n",
        "  - == checks for value equality (whether two objects have the same content).\n",
        "\n",
        "- is checks for identity equality (whether two variables refer to the same object in memory).\n",
        "\n",
        "8 What are logical operators in Python?\n",
        "- Logical operators are used to combine boolean expressions such as\n",
        "  and: Returns True if both conditions are True, or: Returns True if at least one condition is True, not: Reverses the boolean value of an expression.\n",
        "\n",
        "9 What is type casting in Python?\n",
        "- Type casting is the process of converting one data type into another, such as converting a string to an integer using int().\n",
        "\n",
        "10 What is the difference between implicit and explicit type casting?\n",
        "\n",
        "- Implicit casting: Python automatically converts one data type to another (e.g., int to float).\n",
        "\n",
        "- Explicit casting: The user manually converts data using functions like int(), float(), or str().\n",
        "\n",
        "11 What is the purpose of conditional statements in Python?\n",
        "- Conditional statements control the flow of execution based on conditions. They include if, elif, and else statements.\n",
        "\n",
        "12 How does the elif statement work?\n",
        "- The elif statement allows multiple conditions to be checked sequentially. If the first if condition is False, the next elif condition is evaluated.\n",
        "\n",
        "13 What is the difference between for and while loops?\n",
        "\n",
        "- A for loop iterates over a sequence (list, tuple, range) and runs a fixed number of times and while loop runs as long as a condition remains True.\n",
        "\n",
        "14 Describe a scenario where a while loop is more suitable than a for loop.\n",
        "- A while loop is ideal when the number of iterations is unknown beforehand. For example, reading user input until they enter \"exit\" is best handled with a while loop\n"
      ],
      "metadata": {
        "id": "ssS7YI50OyUb"
      }
    },
    {
      "cell_type": "code",
      "source": [
        "#1 Write a Python program to print \"Hello, World!\"\n",
        "print(\"Hello, World!\")"
      ],
      "metadata": {
        "colab": {
          "base_uri": "https://localhost:8080/"
        },
        "id": "Q2GTfhPMeJ7v",
        "outputId": "f870dfa0-91c0-4dc9-a108-d13f4e162f81"
      },
      "execution_count": null,
      "outputs": [
        {
          "output_type": "stream",
          "name": "stdout",
          "text": [
            "Hello, World!\n"
          ]
        }
      ]
    },
    {
      "cell_type": "code",
      "source": [
        "#Write a Python program that displays your name and age\n",
        "name = input(\"Enter your name \")\n",
        "age = input(\"Enter your age \")\n",
        "print(f\"My name is {name}\")\n",
        "print(f\"My age is {age}\")\n"
      ],
      "metadata": {
        "colab": {
          "base_uri": "https://localhost:8080/"
        },
        "id": "NWQ3-j-5eXbD",
        "outputId": "6bd0605a-6eb0-4032-bc51-99d8bcba553b"
      },
      "execution_count": null,
      "outputs": [
        {
          "output_type": "stream",
          "name": "stdout",
          "text": [
            "Enter your name Ankita\n",
            "Enter your age 23\n",
            "My name is Ankita\n",
            "My age is 23\n"
          ]
        }
      ]
    },
    {
      "cell_type": "code",
      "source": [
        "# 3 Write code to print all the pre-defined keywords in Python using the keyword library\n",
        "import keyword\n",
        "print(keyword.kwlist)"
      ],
      "metadata": {
        "colab": {
          "base_uri": "https://localhost:8080/"
        },
        "id": "Auc9jgs0e-wk",
        "outputId": "3d2fe0d7-efdc-4e0a-e6bb-47755636d33f"
      },
      "execution_count": null,
      "outputs": [
        {
          "output_type": "stream",
          "name": "stdout",
          "text": [
            "['False', 'None', 'True', 'and', 'as', 'assert', 'async', 'await', 'break', 'class', 'continue', 'def', 'del', 'elif', 'else', 'except', 'finally', 'for', 'from', 'global', 'if', 'import', 'in', 'is', 'lambda', 'nonlocal', 'not', 'or', 'pass', 'raise', 'return', 'try', 'while', 'with', 'yield']\n"
          ]
        }
      ]
    },
    {
      "cell_type": "code",
      "source": [
        "#4 Write a program that checks if a given word is a Python keyword.\n",
        "word = input(\"Enter a word to check if it is a keyword in python or not \")\n",
        "\n",
        "if(word in keyword.kwlist):\n",
        "  print(\"given word is a keyword\")\n",
        "else:\n",
        "  print(\"given word is not a keyword\")"
      ],
      "metadata": {
        "colab": {
          "base_uri": "https://localhost:8080/"
        },
        "id": "a0abp6F9fPiE",
        "outputId": "d208e41d-9327-4958-853f-1f6a6a7a9c15"
      },
      "execution_count": null,
      "outputs": [
        {
          "output_type": "stream",
          "name": "stdout",
          "text": [
            "Enter a word to check if it is a keyword in python or not break\n",
            "given word is a keyword\n"
          ]
        }
      ]
    },
    {
      "cell_type": "code",
      "source": [
        "# 5 Create a list and tuple in Python, and demonstrate how attempting to change an element works differently for each\n",
        "\n",
        "list1 = [5, 2.2, 6, \"Ankita\"]\n",
        "list1[0] = 10\n",
        "list1\n"
      ],
      "metadata": {
        "colab": {
          "base_uri": "https://localhost:8080/"
        },
        "id": "vJ3PmcXOj2a_",
        "outputId": "c5a00963-f98f-4664-bd96-540957baafd1"
      },
      "execution_count": null,
      "outputs": [
        {
          "output_type": "execute_result",
          "data": {
            "text/plain": [
              "[10, 2.2, 6, 'Ankita']"
            ]
          },
          "metadata": {},
          "execution_count": 12
        }
      ]
    },
    {
      "cell_type": "code",
      "source": [
        "tuple1 = (5, 2.2 , 6, \"Ankita\")\n",
        "tuple1[0] = 10\n",
        "tuple1"
      ],
      "metadata": {
        "colab": {
          "base_uri": "https://localhost:8080/",
          "height": 183
        },
        "id": "IUHply4hkdRO",
        "outputId": "05158e3e-7c31-45ff-eb1e-f6f8e2787179"
      },
      "execution_count": null,
      "outputs": [
        {
          "output_type": "error",
          "ename": "TypeError",
          "evalue": "'tuple' object does not support item assignment",
          "traceback": [
            "\u001b[0;31m---------------------------------------------------------------------------\u001b[0m",
            "\u001b[0;31mTypeError\u001b[0m                                 Traceback (most recent call last)",
            "\u001b[0;32m<ipython-input-13-b71ab8ca7a5d>\u001b[0m in \u001b[0;36m<cell line: 0>\u001b[0;34m()\u001b[0m\n\u001b[1;32m      1\u001b[0m \u001b[0mtuple1\u001b[0m \u001b[0;34m=\u001b[0m \u001b[0;34m(\u001b[0m\u001b[0;36m5\u001b[0m\u001b[0;34m,\u001b[0m \u001b[0;36m2.2\u001b[0m \u001b[0;34m,\u001b[0m \u001b[0;36m6\u001b[0m\u001b[0;34m,\u001b[0m \u001b[0;34m\"Ankita\"\u001b[0m\u001b[0;34m)\u001b[0m\u001b[0;34m\u001b[0m\u001b[0;34m\u001b[0m\u001b[0m\n\u001b[0;32m----> 2\u001b[0;31m \u001b[0mtuple1\u001b[0m\u001b[0;34m[\u001b[0m\u001b[0;36m0\u001b[0m\u001b[0;34m]\u001b[0m \u001b[0;34m=\u001b[0m \u001b[0;36m10\u001b[0m\u001b[0;34m\u001b[0m\u001b[0;34m\u001b[0m\u001b[0m\n\u001b[0m\u001b[1;32m      3\u001b[0m \u001b[0mtuple1\u001b[0m\u001b[0;34m\u001b[0m\u001b[0;34m\u001b[0m\u001b[0m\n",
            "\u001b[0;31mTypeError\u001b[0m: 'tuple' object does not support item assignment"
          ]
        }
      ]
    },
    {
      "cell_type": "code",
      "source": [
        "# 6  Write a function to demonstrate the behavior of mutable and immutable arguments.\n",
        "\n",
        "def mutable_vs_immutable(str, lst):\n",
        "    # Modifying the immutable argument\n",
        "    str = \"a\" + str[1:]\n",
        "\n",
        "    # Modifying the mutable argument\n",
        "    lst.append(4)\n",
        "\n",
        "    print(\"Inside function - str:\", str)  # New object (immutable)\n",
        "    print(\"Inside function - lst:\", lst)  # Modified in-place (mutable)\n",
        "\n",
        "# Immutable argument (string)\n",
        "str = \"Ankita\"\n",
        "\n",
        "# Mutable argument (list)\n",
        "y = [1, 2, 3]\n",
        "\n",
        "# Call the function\n",
        "mutable_vs_immutable(str, y)\n",
        "\n",
        "# Check values after function call\n",
        "print(\"Outside function - str:\", str)  # Remains unchanged (immutable)\n",
        "print(\"Outside function - y:\", y)  # Changed (mutable)\n",
        "\n"
      ],
      "metadata": {
        "colab": {
          "base_uri": "https://localhost:8080/"
        },
        "id": "7Q34j9cVke4l",
        "outputId": "f0456df0-a770-455d-a8f7-8181dc622807"
      },
      "execution_count": null,
      "outputs": [
        {
          "output_type": "stream",
          "name": "stdout",
          "text": [
            "Inside function - str: ankita\n",
            "Inside function - lst: [1, 2, 3, 4]\n",
            "Outside function - str: Ankita\n",
            "Outside function - y: [1, 2, 3, 4]\n"
          ]
        }
      ]
    },
    {
      "cell_type": "code",
      "source": [
        "#  7. Write a program that performs basic arithmetic operations on two user-input numbers.\n",
        "\n",
        "# Taking input from the user\n",
        "num1 = input(\"Enter num1: \")\n",
        "num2 = input(\"Enter num2: \")\n",
        "\n",
        "# Converting input strings to integers\n",
        "num1 = int(num1)\n",
        "num2 = int(num2)\n",
        "\n",
        "# Performing arithmetic operations\n",
        "sum_result = num1 + num2\n",
        "difference = num1 - num2\n",
        "product = num1 * num2\n",
        "quotient = num1 / num2 if num2 != 0 else \"Undefined (division by zero)\"\n",
        "modulus = num1 % num2 if num2 != 0 else \"Undefined (modulus by zero)\"\n",
        "\n",
        "# Displaying the results\n",
        "print(f\"Sum of {num1} and {num2} is {sum_result}\")\n",
        "print(f\"Difference of {num1} and {num2} is {difference}\")\n",
        "print(f\"Product of {num1} and {num2} is {product}\")\n",
        "print(f\"Quotient of {num1} divided by {num2} is {quotient}\")\n",
        "print(f\"Modulus of {num1} and {num2} is {modulus}\")\n",
        "\n"
      ],
      "metadata": {
        "colab": {
          "base_uri": "https://localhost:8080/"
        },
        "id": "Sf_R3Xn5mLEE",
        "outputId": "6ab6cb66-5ad7-484e-e914-27bea5eccb3b"
      },
      "execution_count": null,
      "outputs": [
        {
          "output_type": "stream",
          "name": "stdout",
          "text": [
            "Enter num1: 5\n",
            "Enter num2: 7\n",
            "Sum of 5 and 7 is 12\n",
            "Difference of 5 and 7 is -2\n",
            "Product of 5 and 7 is 35\n",
            "Quotient of 5 divided by 7 is 0.7142857142857143\n",
            "Modulus of 5 and 7 is 5\n"
          ]
        }
      ]
    },
    {
      "cell_type": "code",
      "source": [
        "# 8. Write a program to demonstrate the use of logical operators.\n",
        "\n",
        "# Taking user input\n",
        "a = int(input(\"Enter first number (a): \"))\n",
        "b = int(input(\"Enter second number (b): \"))\n",
        "\n",
        "# Logical Operators\n",
        "print(f\"Logical AND: (a > 0 and b > 0) → {a > 0 and b > 0}\")\n",
        "print(f\"Logical OR: (a > 0 or b > 0) → {a > 0 or b > 0}\")\n",
        "print(f\"Logical NOT: not (a > 0) → {not (a > 0)}\")\n",
        "print(f\"Logical NOT: not (b > 0) → {not (b > 0)}\")\n",
        "\n",
        "# Bitwise Left Shift (a << 1 means a * 2^1)\n",
        "print(f\"Left Shift: {a} << 1 → {a << 1}\")\n",
        "print(f\"Left Shift: {b} << 1 → {b << 1}\")\n",
        "\n",
        "# Bitwise Right Shift (a >> 1 means a // 2)\n",
        "print(f\"Right Shift: {a} >> 1 → {a >> 1}\")\n",
        "print(f\"Right Shift: {b} >> 1 → {b >> 1}\")\n"
      ],
      "metadata": {
        "colab": {
          "base_uri": "https://localhost:8080/"
        },
        "id": "hW1aGXFdm8HO",
        "outputId": "ca4c3dba-9155-4963-c040-e23c334391a5"
      },
      "execution_count": null,
      "outputs": [
        {
          "output_type": "stream",
          "name": "stdout",
          "text": [
            "Enter first number (a): 4\n",
            "Enter second number (b): 6\n",
            "Logical AND: (a > 0 and b > 0) → True\n",
            "Logical OR: (a > 0 or b > 0) → True\n",
            "Logical NOT: not (a > 0) → False\n",
            "Logical NOT: not (b > 0) → False\n",
            "Left Shift: 4 << 1 → 8\n",
            "Left Shift: 6 << 1 → 12\n",
            "Right Shift: 4 >> 1 → 2\n",
            "Right Shift: 6 >> 1 → 3\n"
          ]
        }
      ]
    },
    {
      "cell_type": "markdown",
      "source": [],
      "metadata": {
        "id": "4farJHX6YM-O"
      }
    },
    {
      "cell_type": "code",
      "source": [
        "# 9  Write a Python program to convert user input from string to integer, float, and boolean types.\n",
        "\n",
        "user_input = input(\"Enter a string: \")\n",
        "int_val = int(user_input)\n",
        "float_val = float(user_input)  # Using the float function to convert\n",
        "bool_val = bool(user_input)\n",
        "\n",
        "print(f\"Integer: {int_val}\")\n",
        "print(f\"Float: {float_val}\")\n",
        "print(f\"Boolean: {bool_val}\")"
      ],
      "metadata": {
        "id": "Lcm959VTpfcy",
        "colab": {
          "base_uri": "https://localhost:8080/"
        },
        "outputId": "3a240729-69ea-4204-f9f9-3662596b5630"
      },
      "execution_count": 2,
      "outputs": [
        {
          "output_type": "stream",
          "name": "stdout",
          "text": [
            "Enter a string: 123\n",
            "Integer: 123\n",
            "Float: 123.0\n",
            "Boolean: True\n"
          ]
        }
      ]
    },
    {
      "cell_type": "code",
      "source": [
        "# 10. Write code to demonstrate type casting with list elements.\n",
        "list1 = [1, 8, \"ank\", \"tan\", 9.0]\n",
        "\n",
        "# Convert elements to different data types\n",
        "list1[0] = str(list1[0])  # Convert integer to string\n",
        "list1[1] = float(list1[1])  # Convert integer to float\n",
        "list1[2] = list1[2].upper()  # Convert string to uppercase (string transformation)\n",
        "list1[3] = bool(list1[3])  # Convert string to boolean\n",
        "list1[4] = int(list1[4])  # Convert float to integer\n",
        "\n",
        "# Print modified list\n",
        "print(\"Updated list:\", list1)\n"
      ],
      "metadata": {
        "colab": {
          "base_uri": "https://localhost:8080/"
        },
        "id": "mtp9EIPFp_1M",
        "outputId": "04787bfb-7057-4c8f-ec2e-7dcb86c1b542"
      },
      "execution_count": 3,
      "outputs": [
        {
          "output_type": "stream",
          "name": "stdout",
          "text": [
            "Updated list: ['1', 8.0, 'ANK', True, 9]\n"
          ]
        }
      ]
    },
    {
      "cell_type": "code",
      "source": [
        "#11. Write a program that checks if a number is positive, negative, or zero.\n",
        "\n",
        "num = input(\"Enter a number: \")\n",
        "num = int(num)\n",
        "if(num > 0):\n",
        "  print(\"Number is positive\")\n",
        "elif(num < 0):\n",
        "  print(\"Number is negative\")\n",
        "else:\n",
        "  print(\"Number is zero\")"
      ],
      "metadata": {
        "colab": {
          "base_uri": "https://localhost:8080/"
        },
        "id": "07FkvB9DsHl7",
        "outputId": "639b2187-b972-4fb9-e8d3-37c12d8d0d28"
      },
      "execution_count": 4,
      "outputs": [
        {
          "output_type": "stream",
          "name": "stdout",
          "text": [
            "Enter a number: 12\n",
            "Number is positive\n"
          ]
        }
      ]
    },
    {
      "cell_type": "code",
      "source": [
        "# 12 Write a for loop to print numbers from 1 to 10.\n",
        "\n",
        "for i in range(1,11):\n",
        "  print(i)"
      ],
      "metadata": {
        "colab": {
          "base_uri": "https://localhost:8080/"
        },
        "id": "HyhwUh8asU8_",
        "outputId": "5ae96adc-bd33-4636-a457-a7a78dd49bd7"
      },
      "execution_count": 8,
      "outputs": [
        {
          "output_type": "stream",
          "name": "stdout",
          "text": [
            "1\n",
            "2\n",
            "3\n",
            "4\n",
            "5\n",
            "6\n",
            "7\n",
            "8\n",
            "9\n",
            "10\n"
          ]
        }
      ]
    },
    {
      "cell_type": "code",
      "source": [
        "# 13 Write a Python program to find the sum of all even numbers between 1 and 50.\n",
        "\n",
        "sum =0;\n",
        "for i in range(1,51):\n",
        "  if(i%2 == 0):\n",
        "    sum = sum + i\n",
        "print(sum)\n"
      ],
      "metadata": {
        "colab": {
          "base_uri": "https://localhost:8080/"
        },
        "id": "E4pKz5CNsslN",
        "outputId": "69e62c6b-538b-4cfd-deb5-50500a755ed2"
      },
      "execution_count": 9,
      "outputs": [
        {
          "output_type": "stream",
          "name": "stdout",
          "text": [
            "650\n"
          ]
        }
      ]
    },
    {
      "cell_type": "code",
      "source": [
        "# 14. Write a program to reverse a string using a while loop.\n",
        "\n",
        "string = input(\"Enter a string: \")\n",
        "reversed_string = \"\"\n",
        "index = len(string) - 1\n",
        "\n",
        "while index >= 0:\n",
        "    reversed_string += string[index]\n",
        "    index -= 1\n",
        "\n",
        "print(\"Reversed string:\", reversed_string)"
      ],
      "metadata": {
        "colab": {
          "base_uri": "https://localhost:8080/"
        },
        "id": "7zd1uGfLs4uy",
        "outputId": "3042b3e7-ac2c-4535-d663-9120464e791e"
      },
      "execution_count": 10,
      "outputs": [
        {
          "output_type": "stream",
          "name": "stdout",
          "text": [
            "Enter a string: word\n",
            "Reversed string: drow\n"
          ]
        }
      ]
    },
    {
      "cell_type": "code",
      "source": [
        "# 15. Write a Python program to calculate the factorial of a number provided by the user using a while loop.\n",
        "\n",
        "num = int(input(\"enter a num \"))\n",
        "fact = 1\n",
        "for i in range(1,num+1):\n",
        "  fact = fact * i;\n",
        "\n",
        "\n",
        "print(fact)"
      ],
      "metadata": {
        "colab": {
          "base_uri": "https://localhost:8080/"
        },
        "id": "qlETWu9HtFNK",
        "outputId": "70749dab-5b6b-4f96-df9d-d1a129a032f8"
      },
      "execution_count": 19,
      "outputs": [
        {
          "output_type": "stream",
          "name": "stdout",
          "text": [
            "enter a num 5\n",
            "120\n"
          ]
        }
      ]
    }
  ]
}